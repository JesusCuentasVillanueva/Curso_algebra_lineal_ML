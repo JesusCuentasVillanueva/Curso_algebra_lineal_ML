{
 "cells": [
  {
   "attachments": {},
   "cell_type": "markdown",
   "metadata": {},
   "source": [
    "### Descomponer una matriz.\n",
    "Quiere decir encontrar dos o más matrices que me ayuden a escribir la matriz original y que tengan ciertas propiedades."
   ]
  },
  {
   "cell_type": "code",
   "execution_count": 1,
   "metadata": {},
   "outputs": [],
   "source": [
    "%matplotlib inline\n",
    "import numpy as np\n",
    "import matplotlib.pyplot as plt"
   ]
  },
  {
   "attachments": {},
   "cell_type": "markdown",
   "metadata": {},
   "source": [
    "Vamos a usar el símbolo de lambda para los autovalores, como tenemos dos autovalores en una matriz de 2X2 vamos a tener lambda 1 y 2: $\\lambda_1$  y  $\\lambda_2$"
   ]
  },
  {
   "cell_type": "code",
   "execution_count": 2,
   "metadata": {},
   "outputs": [
    {
     "name": "stdout",
     "output_type": "stream",
     "text": [
      "[[3 2]\n",
      " [4 1]]\n"
     ]
    }
   ],
   "source": [
    "A = np.array([[3,2],[4,1]])\n",
    "print(A)"
   ]
  },
  {
   "cell_type": "code",
   "execution_count": 7,
   "metadata": {},
   "outputs": [
    {
     "name": "stdout",
     "output_type": "stream",
     "text": [
      "Autovalores:  [ 5. -1.]\n",
      "Autovectores:  [[ 0.70710678 -0.4472136 ]\n",
      " [ 0.70710678  0.89442719]]\n"
     ]
    }
   ],
   "source": [
    "autovalores, autovectores = np.linalg.eig(A)\n",
    "print(\"Autovalores: \",autovalores)\n",
    "print(\"Autovectores: \", autovectores)"
   ]
  },
  {
   "attachments": {},
   "cell_type": "markdown",
   "metadata": {},
   "source": [
    "$A = v . diag(\\lambda) . v^{-1}$\n",
    "\n",
    "donde:\n",
    "- $v$: matriz de autovectores\n",
    "- $diag(\\lambda)$: matriz diagonal de autovalores"
   ]
  },
  {
   "cell_type": "code",
   "execution_count": 8,
   "metadata": {},
   "outputs": [
    {
     "name": "stdout",
     "output_type": "stream",
     "text": [
      "[[3. 2.]\n",
      " [4. 1.]]\n"
     ]
    }
   ],
   "source": [
    "A_calc = autovectores.dot(np.diag(autovalores)).dot(np.linalg.inv(autovectores))\n",
    "print(A_calc)"
   ]
  },
  {
   "attachments": {},
   "cell_type": "markdown",
   "metadata": {},
   "source": [
    "### Ejemplo 2\n",
    "Tenemos otras descomposiciones que tambien son muy útiles, en el caso que nuestra matriz A sea una matriz real (los números que la componen son reales) y simétrica ($A = A^t$)"
   ]
  },
  {
   "cell_type": "code",
   "execution_count": 12,
   "metadata": {},
   "outputs": [
    {
     "name": "stdout",
     "output_type": "stream",
     "text": [
      "[[3 2]\n",
      " [2 3]]\n"
     ]
    }
   ],
   "source": [
    "A = np.array([[3,2],[2,3]])\n",
    "print(A)"
   ]
  },
  {
   "attachments": {},
   "cell_type": "markdown",
   "metadata": {},
   "source": [
    "Comprobamos si la matriz es simétrica, es decir: $A = A^t$"
   ]
  },
  {
   "cell_type": "code",
   "execution_count": 13,
   "metadata": {},
   "outputs": [
    {
     "name": "stdout",
     "output_type": "stream",
     "text": [
      "[[ True  True]\n",
      " [ True  True]]\n"
     ]
    }
   ],
   "source": [
    "print(A == A.T)"
   ]
  },
  {
   "attachments": {},
   "cell_type": "markdown",
   "metadata": {},
   "source": [
    "Ahora vamos a ver los autovalores y los autovectores"
   ]
  },
  {
   "cell_type": "code",
   "execution_count": 14,
   "metadata": {},
   "outputs": [
    {
     "name": "stdout",
     "output_type": "stream",
     "text": [
      "[5. 1.]\n",
      "[[ 0.70710678 -0.70710678]\n",
      " [ 0.70710678  0.70710678]]\n"
     ]
    }
   ],
   "source": [
    "autovalores, autovectores = np.linalg.eig(A)\n",
    "print(autovalores)\n",
    "print(autovectores)"
   ]
  },
  {
   "attachments": {},
   "cell_type": "markdown",
   "metadata": {},
   "source": [
    "Las matrices simétricas se pueden des componer de la siguiente manera:\n",
    "\n",
    "$A = v . diag(\\lambda) . v^t$\n",
    "\n",
    "donde:\n",
    "- $v$: matriz de autovectores\n",
    "- $diag(\\lambda)$: matriz diagonal de autovalores\n",
    "\n",
    "Recordemos que calcular una traspuesta es mucho más sencillo que calcular una inversa y computacionalmente más económico. Entonces, el caso ideal sería que en lugar de tener una matriz cualquiera tuviéramos una matriz real y simétrica."
   ]
  },
  {
   "cell_type": "code",
   "execution_count": 15,
   "metadata": {},
   "outputs": [
    {
     "name": "stdout",
     "output_type": "stream",
     "text": [
      "[[3. 2.]\n",
      " [2. 3.]]\n"
     ]
    }
   ],
   "source": [
    "A_calc = autovectores.dot(np.diag(autovalores)).dot(autovectores.T)\n",
    "print(A_calc)"
   ]
  }
 ],
 "metadata": {
  "kernelspec": {
   "display_name": "Python 3.9.7 ('base')",
   "language": "python",
   "name": "python3"
  },
  "language_info": {
   "codemirror_mode": {
    "name": "ipython",
    "version": 3
   },
   "file_extension": ".py",
   "mimetype": "text/x-python",
   "name": "python",
   "nbconvert_exporter": "python",
   "pygments_lexer": "ipython3",
   "version": "3.9.7"
  },
  "orig_nbformat": 4,
  "vscode": {
   "interpreter": {
    "hash": "1887026fcd1b072b47c58e40aa32a6384ea48c39cc97a9faa3b1fec939c280df"
   }
  }
 },
 "nbformat": 4,
 "nbformat_minor": 2
}
